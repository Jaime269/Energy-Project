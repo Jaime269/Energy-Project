{
 "cells": [
  {
   "cell_type": "code",
   "execution_count": null,
   "id": "add3dff6",
   "metadata": {},
   "outputs": [],
   "source": []
  },
  {
   "cell_type": "code",
   "execution_count": 44,
   "id": "af33ab1e",
   "metadata": {},
   "outputs": [
    {
     "name": "stderr",
     "output_type": "stream",
     "text": [
      "<ipython-input-44-cefc2798e4eb>:63: DeprecationWarning: \"dest\" parameter is deprecated, unused and will soon be removed\n",
      "  pdf.output('sample.pdf', 'F')\n"
     ]
    }
   ],
   "source": [
    "from fpdf import FPDF\n",
    "import subprocess\n",
    "from fpdf.enums import XPos, YPos\n",
    "#subprocess.call([\"php\", \"tfpdf.php\"], shell=True)\n",
    "#font_path = './font/unifont/'\n",
    "\n",
    "pdf = FPDF('P', 'mm', 'A4')\n",
    "pdf.add_page()\n",
    "\n",
    "# add font\n",
    "#pdf.add_font('Simsun', '', font_path + 'SIMSUN.ttf', uni=True)\n",
    "\n",
    "pdf.set_margins(10, 10, 0)\n",
    "\n",
    "pdf.set_font('Arial', 'B', 16)\n",
    "pdf.cell(40, 10, 'Smartest Energy Report', new_y=YPos.NEXT, align='c')\n",
    "\n",
    "pdf.set_font('Times', '', 12)\n",
    "pdf.cell(80, 10, 'All energy quantity - prices graph.', new_x=XPos.LMARGIN, new_y=YPos.NEXT)\n",
    "\n",
    "pdf.set_font('Arial', '', 12)\n",
    "pdf.ln(50)\n",
    "pdf.cell(85)\n",
    "pdf.cell(0, 0, 'We have a new line.', 0)\n",
    "\n",
    "# add image\n",
    "pdf.image('Plots/'+'2022-07-01'+'All energy quantity - prices graph.png', 10, 20, 200)\n",
    "pdf.cell(85,new_x=XPos.LMARGIN, new_y=YPos.NEXT)\n",
    "pdf.cell(80, 150, 'All energy quantity - prices graph.', 0, new_x=XPos.LMARGIN, new_y=YPos.TOP)\n",
    "\n",
    "pdf.image('Plots/'+'2022-07-01'+'ImbalanceQuantity(MAW) graph.png', 10, 120, 100)\n",
    "\n",
    "# draw a line\n",
    "#pdf.line(85, 27.5, 125, 27.5)\n",
    "\n",
    "# draw a rectangle\n",
    "#pdf.rect(80, 20, 50, 55)\n",
    "\n",
    "# set fill, draw and font color\n",
    "pdf.set_fill_color(128, 166, 197)\n",
    "pdf.set_draw_color(41, 53, 50)\n",
    "pdf.rect(80, 115, 50, 10, 'DF')\n",
    "\n",
    "pdf.set_text_color(183, 208, 232)\n",
    "pdf.ln(50)\n",
    "pdf.cell(70)\n",
    "pdf.cell(70, 0, 'We have a new line.', 0, new_x=XPos.RIGHT, new_y=YPos.TOP)\n",
    "\n",
    "# add popcat\n",
    "#for i in range(17):\n",
    " #   pdf.image('Plots/'+'2022-07-01'+'All energy quantity - prices graph.png', 20 + i * 10, 102.5, 5)\n",
    "  #  pdf.image('Plots/'+'2022-07-01'+'All energy quantity - prices graph.png', 20 + i * 10, 82.5, 5)\n",
    "   # pdf.image('Plots/'+'2022-07-01'+'All energy quantity - prices graph.png', 25 + i * 10, 102.5, 5)\n",
    "    #pdf.image('Plots/'+'2022-07-01'+'All energy quantity - prices graph.png', 25 + i * 10, 82.5, 5)\n",
    "\n",
    "# other languages text\n",
    "pdf.set_text_color(0, 0, 0)\n",
    "pdf.set_font('Times', 'B', 15)\n",
    "pdf.ln(-24)\n",
    "pdf.cell(90)\n",
    "pdf.cell(0, 0, 'dasss', 0)\n",
    "\n",
    "pdf.output('sample.pdf', 'F')"
   ]
  },
  {
   "cell_type": "code",
   "execution_count": 81,
   "id": "5442b1ff",
   "metadata": {},
   "outputs": [
    {
     "name": "stderr",
     "output_type": "stream",
     "text": [
      "<ipython-input-81-25004e667e69>:21: DeprecationWarning: \"dest\" parameter is deprecated, unused and will soon be removed\n",
      "  pdf.output('sample.pdf', 'F')\n"
     ]
    }
   ],
   "source": [
    "pdf = FPDF('P', 'mm', 'A4')\n",
    "\n",
    "pdf.set_auto_page_break\n",
    "\n",
    "pdf.add_page()\n",
    "pdf.set_margins(10, 10, 0)\n",
    "pdf.set_font('Arial', 'B', 16)\n",
    "\n",
    "pdf.cell(0, 10, 'Smartest Energy Report',new_x=XPos.LMARGIN, new_y=YPos.NEXT,align='c' )\n",
    "\n",
    "pdf.set_font('Arial', 'B', 12)\n",
    "\n",
    "pdf.cell(0, 10, 'All energy quantity - prices graph.',new_x=XPos.LMARGIN, new_y=YPos.NEXT,align='c')\n",
    "\n",
    "pdf.image('Plots/'+'2022-07-01'+'All energy quantity - prices graph.png', x = 10, y = 30, w=200, h=0)\n",
    "\n",
    "pdf.cell(0, 10, 'All energy quantity - prices graph.',new_x=XPos.LMARGIN, new_y=YPos.NEXT,align='c')\n",
    "\n",
    "pdf.image('Plots/'+'2022-07-01'+'All energy quantity - prices graph.png', x = 10, y = 30, w=200, h=0)\n",
    "\n",
    "pdf.output('sample.pdf', 'F')"
   ]
  },
  {
   "cell_type": "code",
   "execution_count": null,
   "id": "f0581ea6",
   "metadata": {},
   "outputs": [],
   "source": []
  },
  {
   "cell_type": "code",
   "execution_count": 110,
   "id": "63fadb70",
   "metadata": {},
   "outputs": [
    {
     "name": "stderr",
     "output_type": "stream",
     "text": [
      "<ipython-input-110-e0ab60228ac2>:31: DeprecationWarning: \"dest\" parameter is deprecated, unused and will soon be removed\n",
      "  pdf.output('Transcript.pdf', 'F')\n"
     ]
    }
   ],
   "source": [
    "import os\n",
    "from fpdf import FPDF\n",
    "\n",
    "\n",
    "class PDF(FPDF):\n",
    "    def header(self):\n",
    "    #logo\n",
    "        self.image('logo.png',10,8,25)\n",
    "        #font\n",
    "        self.set_font('Helvetica', 'B', 18)\n",
    "        self.cell(0,8,'Imbalance Prices (B1770) and ', 0,new_x=XPos.LMARGIN, new_y=YPos.NEXT, align ='C')\n",
    "        self.cell(0,8,'Aggregated Imbalance Volumes (B1780)', 0,new_x=XPos.LMARGIN, new_y=YPos.NEXT, align ='C')\n",
    "        #line break\n",
    "        self.ln(20)\n",
    "\n",
    "\n",
    "pdf = PDF()\n",
    "pdf.set_auto_page_break(0)\n",
    "\n",
    "imagelist = [i for i in os.listdir('Plots/') if i.endswith('png') and i.startswith('2022-07-01')]\n",
    "\n",
    "\n",
    "# imagelist is the list with all image filenames\n",
    "for image in sorted(imagelist):\n",
    "    pdf.add_page()\n",
    "    pdf.set_font('Arial', 'B', 12)\n",
    "    #pdf.ln(10)\n",
    "    pdf.cell(0, 10, image,new_x=XPos.LMARGIN, new_y=YPos.NEXT,align='c')\n",
    "    pdf.image('Plots/' + image,x = None, y = 65, w=200)\n",
    "    \n",
    "pdf.output('Transcript.pdf', 'F')"
   ]
  },
  {
   "cell_type": "code",
   "execution_count": null,
   "id": "39682a17",
   "metadata": {},
   "outputs": [],
   "source": []
  },
  {
   "cell_type": "code",
   "execution_count": null,
   "id": "9a4c0934",
   "metadata": {},
   "outputs": [],
   "source": []
  }
 ],
 "metadata": {
  "kernelspec": {
   "display_name": "Python 3",
   "language": "python",
   "name": "python3"
  },
  "language_info": {
   "codemirror_mode": {
    "name": "ipython",
    "version": 3
   },
   "file_extension": ".py",
   "mimetype": "text/x-python",
   "name": "python",
   "nbconvert_exporter": "python",
   "pygments_lexer": "ipython3",
   "version": "3.8.8"
  }
 },
 "nbformat": 4,
 "nbformat_minor": 5
}
